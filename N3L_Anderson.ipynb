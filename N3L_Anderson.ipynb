{
  "nbformat": 4,
  "nbformat_minor": 0,
  "metadata": {
    "colab": {
      "provenance": [],
      "include_colab_link": true
    },
    "kernelspec": {
      "name": "python3",
      "display_name": "Python 3"
    },
    "language_info": {
      "name": "python"
    }
  },
  "cells": [
    {
      "cell_type": "markdown",
      "metadata": {
        "id": "view-in-github",
        "colab_type": "text"
      },
      "source": [
        "<a href=\"https://colab.research.google.com/github/CalebAnderson22/PHY122/blob/main/N3L_Anderson.ipynb\" target=\"_parent\"><img src=\"https://colab.research.google.com/assets/colab-badge.svg\" alt=\"Open In Colab\"/></a>"
      ]
    },
    {
      "cell_type": "markdown",
      "source": [
        "Lab 3\n",
        "\n",
        "Caleb Anderson\n",
        "\n",
        "09 November 2024"
      ],
      "metadata": {
        "id": "t0Doe3CBQ3Ci"
      }
    },
    {
      "cell_type": "markdown",
      "source": [
        "#  <font color='Red'> **Import Necessary Modules** </font>"
      ],
      "metadata": {
        "id": "ODKTQJak3iE-"
      }
    },
    {
      "cell_type": "code",
      "source": [
        "import numpy as np\n",
        "import matplotlib.pyplot as plt\n",
        "from numpy import arange, array, zeros\n",
        "from numpy.linalg import norm\n",
        "from mpl_toolkits import mplot3d\n",
        "import textwrap\n",
        "\n",
        "np.set_printoptions(precision=4, linewidth=200, threshold=2000, suppress=True)\n",
        "\n",
        "π =  np.pi"
      ],
      "metadata": {
        "id": "eG_AnzCN3iy5"
      },
      "execution_count": 995,
      "outputs": []
    },
    {
      "cell_type": "markdown",
      "source": [
        "###  <font color='Green'> Necessary Defintions. </font>"
      ],
      "metadata": {
        "id": "v5m-1sNOQ4k9"
      }
    },
    {
      "cell_type": "code",
      "source": [
        "###\n",
        "def rotation_xy(θ):\n",
        "    \"\"\"\n",
        "    GIVEN: θ (in degrees)\n",
        "    GET: rotation matrix\n",
        "    \"\"\"\n",
        "    θ *= np.pi/180\n",
        "    return np.array([ [np.cos(θ), -np.sin(θ), 0.], [np.sin(θ), np.cos(θ), 0.], [0., 0., 1.]])\n",
        "\n",
        "def projection(basis, f_in):\n",
        "    f_1 = np.dot( basis[0], f_in ) * basis[0]\n",
        "    f_2 = np.dot( basis[1], f_in ) * basis[1]\n",
        "    f_3 = np.dot( basis[2], f_in ) * basis[2]\n",
        "    return [f_1, f_2, f_3]\n",
        "\n",
        "def Ramp(θ, μS, μK, f_in):\n",
        "\n",
        "    basis = (rotation_xy(θ) @ np.eye(3)).T\n",
        "\n",
        "    f_fric, f_normal, f_z = projection(basis, -f_in)\n",
        "\n",
        "    if np.linalg.norm(f_fric) <= np.linalg.norm( μS * f_normal ):\n",
        "        None\n",
        "    if np.linalg.norm(f_fric) > np.linalg.norm( μS * f_normal ):\n",
        "        f_fric = np.linalg.norm(μK * f_normal) * f_fric / np.linalg.norm(f_fric)\n",
        "\n",
        "    return f_normal + f_fric + f_z"
      ],
      "metadata": {
        "id": "i75bV7R5yvpd"
      },
      "execution_count": 996,
      "outputs": []
    },
    {
      "cell_type": "markdown",
      "source": [
        "#  <font color='Red'> **Experiment 1: Familiarization with Definitions.** </font>"
      ],
      "metadata": {
        "id": "piiO7Qo1xXWF"
      }
    },
    {
      "cell_type": "markdown",
      "source": [
        "###  <font color='Red'> The Rotation Matrix, print the rotation matrix for 3 angles of your choosing (note the defintion requires the angle in degrees). </font>"
      ],
      "metadata": {
        "id": "NHH-pCzhxfiq"
      }
    },
    {
      "cell_type": "code",
      "source": [
        "print( rotation_xy(30) )\n",
        "print( rotation_xy(45) )\n",
        "print( rotation_xy(60) )"
      ],
      "metadata": {
        "colab": {
          "base_uri": "https://localhost:8080/"
        },
        "id": "xSGSojYqxxii",
        "outputId": "7a698d92-3874-4273-927e-a93b4b7140b9"
      },
      "execution_count": 997,
      "outputs": [
        {
          "output_type": "stream",
          "name": "stdout",
          "text": [
            "[[ 0.866 -0.5    0.   ]\n",
            " [ 0.5    0.866  0.   ]\n",
            " [ 0.     0.     1.   ]]\n",
            "[[ 0.7071 -0.7071  0.    ]\n",
            " [ 0.7071  0.7071  0.    ]\n",
            " [ 0.      0.      1.    ]]\n",
            "[[ 0.5   -0.866  0.   ]\n",
            " [ 0.866  0.5    0.   ]\n",
            " [ 0.     0.     1.   ]]\n"
          ]
        }
      ]
    },
    {
      "cell_type": "markdown",
      "source": [
        "###  <font color='Red'> Choose a rotation matrix from above, to rotate the usual Cartesian Basis (i.e. (Rotation_Matrix @ np.eye(3)).T ) and print the result. </font>"
      ],
      "metadata": {
        "id": "pnJxjBS-x7Gx"
      }
    },
    {
      "cell_type": "code",
      "source": [
        "basis = (rotation_xy(45) @ np.eye(3)).T\n",
        "print( basis )"
      ],
      "metadata": {
        "colab": {
          "base_uri": "https://localhost:8080/"
        },
        "id": "j05li8Rkx_oI",
        "outputId": "70c13b69-d63d-460b-b351-8579244cac6a"
      },
      "execution_count": 998,
      "outputs": [
        {
          "output_type": "stream",
          "name": "stdout",
          "text": [
            "[[ 0.7071  0.7071  0.    ]\n",
            " [-0.7071  0.7071  0.    ]\n",
            " [ 0.      0.      1.    ]]\n"
          ]
        }
      ]
    },
    {
      "cell_type": "markdown",
      "source": [
        "###  <font color='Red'> Define an arbitrary acting force vector (3 component vector). </font>"
      ],
      "metadata": {
        "id": "EDm0IaqgzpF9"
      }
    },
    {
      "cell_type": "code",
      "source": [
        "f_in  = array([0., -100, 0.])\n",
        "print(f_in)"
      ],
      "metadata": {
        "colab": {
          "base_uri": "https://localhost:8080/"
        },
        "id": "W_qbGE77zw3H",
        "outputId": "d0e84efa-c612-46fd-fa7e-20c3dc31e51a"
      },
      "execution_count": 999,
      "outputs": [
        {
          "output_type": "stream",
          "name": "stdout",
          "text": [
            "[   0. -100.    0.]\n"
          ]
        }
      ]
    },
    {
      "cell_type": "markdown",
      "source": [
        "###  <font color='Red'> Use Newton's 3rd Law to get a Reacting force (tentative. </font>"
      ],
      "metadata": {
        "id": "kQpRqiduz7a7"
      }
    },
    {
      "cell_type": "code",
      "source": [
        "f_react = -f_in\n",
        "print(f_react)"
      ],
      "metadata": {
        "colab": {
          "base_uri": "https://localhost:8080/"
        },
        "id": "iJJf9si10Dlv",
        "outputId": "5899988b-fa6e-40a6-fc66-707cdabb941d"
      },
      "execution_count": 1000,
      "outputs": [
        {
          "output_type": "stream",
          "name": "stdout",
          "text": [
            "[ -0. 100.  -0.]\n"
          ]
        }
      ]
    },
    {
      "cell_type": "markdown",
      "source": [
        "###  <font color='Red'> Project an arbitrary force vector, i.e. decompose into 3 vectors, e.g. f_in, on the new basis defined above. </font>"
      ],
      "metadata": {
        "id": "LgL-tHtxyjQX"
      }
    },
    {
      "cell_type": "code",
      "source": [
        "f_fric, f_normal, f_z = projection(basis, f_react)"
      ],
      "metadata": {
        "id": "8AR946mQy0wJ"
      },
      "execution_count": 1001,
      "outputs": []
    },
    {
      "cell_type": "markdown",
      "source": [
        "###  <font color='Red'> Filter the frictional-projection. 1st, define the static friction coefficient (μS) and then the kinetic friction coefficient (μK). 2nd, define two if-statements to determine if friction component of the force above should be the static XOR kinetic one. </font>"
      ],
      "metadata": {
        "id": "-Sj4i1qazBEJ"
      }
    },
    {
      "cell_type": "code",
      "source": [
        "μS = 0.5\n",
        "μK = 0.25\n",
        "\n",
        "if norm(f_fric) <= norm( μS * f_normal ): ## f_2\n",
        "    None\n",
        "if norm(f_fric) > norm( μS * f_normal ):\n",
        "    f_2 = norm(μK * f_normal) * f_fric"
      ],
      "metadata": {
        "id": "fGkKdIT0zXm_"
      },
      "execution_count": 1002,
      "outputs": []
    },
    {
      "cell_type": "markdown",
      "source": [
        "###  <font color='Red'> Now determine the total force: f_in = -f_out $\\rightarrow$ f_in + f_out = f_net. e.g. in the static limit f_net = 0. Print this net force. </font>"
      ],
      "metadata": {
        "id": "tvUZ5ZCA06hS"
      }
    },
    {
      "cell_type": "code",
      "source": [
        "net_force = f_fric + f_normal + f_z + f_in\n",
        "\n",
        "print(\"Net Force is %4.3f N\" %(norm(net_force) ) )"
      ],
      "metadata": {
        "colab": {
          "base_uri": "https://localhost:8080/"
        },
        "id": "wOMeZyRu06tn",
        "outputId": "257d0bef-1bd8-41fc-f4d0-bf69258199e1"
      },
      "execution_count": 1003,
      "outputs": [
        {
          "output_type": "stream",
          "name": "stdout",
          "text": [
            "Net Force is 0.000 N\n"
          ]
        }
      ]
    },
    {
      "cell_type": "markdown",
      "source": [
        "###  <font color='Red'> Now use: Ramp(θ, μS, μK, f_in), to get the reactive force (f_out), with your choice of angle (θ), static friction coefficient (μS), kinetic friction coefficient (μK), and the f_in you defined above.\n",
        "\n",
        "### Add this to f_in, do the results match from above? </font>"
      ],
      "metadata": {
        "id": "l6EDJkQo1q5v"
      }
    },
    {
      "cell_type": "code",
      "source": [
        "print(\"Net Force is %4.3f N\" %( norm( Ramp(30, 0.5, 0.25, f_in) + f_in ) ) )"
      ],
      "metadata": {
        "colab": {
          "base_uri": "https://localhost:8080/"
        },
        "id": "d6hi8Khu1-78",
        "outputId": "e85db180-09c0-45ec-9852-51cec236d99b"
      },
      "execution_count": 1004,
      "outputs": [
        {
          "output_type": "stream",
          "name": "stdout",
          "text": [
            "Net Force is 28.349 N\n"
          ]
        }
      ]
    },
    {
      "cell_type": "markdown",
      "source": [
        "#  <font color='Red'> **Experiment 2: Varying Angle.** </font>"
      ],
      "metadata": {
        "id": "hwDP78Scmd_w"
      }
    },
    {
      "cell_type": "markdown",
      "source": [
        "###  <font color='Red'> Define the range of angles you wish to test (using arange). </font>"
      ],
      "metadata": {
        "id": "IZ-ebOTP1hhJ"
      }
    },
    {
      "cell_type": "code",
      "source": [
        "θs = arange(0,90,0.1) ## range of angles you wish to test"
      ],
      "metadata": {
        "id": "KaQyZZW7699F"
      },
      "execution_count": 1005,
      "outputs": []
    },
    {
      "cell_type": "markdown",
      "source": [
        "###  <font color='Red'> Define a for-loop over these values. And get the force-magnitude for every value in the angle array defined above. Fix the value of the static friction, set kinetic friction to 0. Free feel to use the Ramp method. </font>"
      ],
      "metadata": {
        "id": "ZZpj8AvY2kaH"
      }
    },
    {
      "cell_type": "code",
      "source": [
        "f  = zeros(len(θs)) ## create an empty array to fill-in later of length θs\n",
        "for i in range(len(θs)): ## for-loop over all configurations, e.g. array θs\n",
        "    f[i] = norm( Ramp(θs[i], 0.5, 0.0, f_in) + f_in ) ## compute the net-force given the i-th θs configuration\n",
        "\n",
        "print(f[265])\n",
        "print(f[266])"
      ],
      "metadata": {
        "id": "5f5e6qWr2jDZ",
        "colab": {
          "base_uri": "https://localhost:8080/"
        },
        "outputId": "0f950329-fa08-4f41-eef7-5c3c9871f589"
      },
      "execution_count": 1006,
      "outputs": [
        {
          "output_type": "stream",
          "name": "stdout",
          "text": [
            "1.5888218580782548e-14\n",
            "44.77590878387698\n"
          ]
        }
      ]
    },
    {
      "cell_type": "markdown",
      "source": [
        "###  <font color='Red'> Plot your Results, make sure to leave a caption describing the physics of the graph. </font>"
      ],
      "metadata": {
        "id": "wMS5-GRG2_2F"
      }
    },
    {
      "cell_type": "code",
      "source": [],
      "metadata": {
        "id": "DaenVeNS2qKV"
      },
      "execution_count": null,
      "outputs": []
    },
    {
      "cell_type": "code",
      "source": [
        "plt.plot(θs, f, label=\"f\")\n",
        "plt.xlabel(\"Angle (degrees)\")\n",
        "plt.ylabel(\"Force (N)\")\n",
        "plt.legend(loc=\"upper left\")\n",
        "plt.title(\"Net Force on Object as Ramp Angle Increases\")\n",
        "plt.show()"
      ],
      "metadata": {
        "colab": {
          "base_uri": "https://localhost:8080/",
          "height": 472
        },
        "id": "9hsaJ23t3HI0",
        "outputId": "37ffabc6-59cd-40f4-b843-b32f67000e41"
      },
      "execution_count": 1007,
      "outputs": [
        {
          "output_type": "display_data",
          "data": {
            "text/plain": [
              "<Figure size 640x480 with 1 Axes>"
            ],
            "image/png": "[encoded data removed]"
          },
          "metadata": {}
        }
      ]
    },
    {
      "cell_type": "markdown",
      "source": [
        "Our ramp starts at 0°, where the Normal force from the ramp is completely equal and opposite to the 100 N of Weight on the object, making the Net Force 0 N. As the inclination of the ramp increases, the component of Weight parallel to the surface of the ramp becomes non-zero, and Static Friction begins working equal and opposite to this component. The Normal force continues opposing equally the component of Weight perpendicular to the surface of the ramp. Static Friction increases commensurate with the component of Weight parallel to the ramp's surface (keeping Net Force 0 N) until approximately 26.6° above the horizontal, when Static Friction is overcome and the object begins to slide. That the object is sliding means the force of Friction is now proportional in magnitude to the Normal force by the Coefficient of Kinetic Friction, which is smaller than the Coefficient of Static Friction was. This means the force of Friction opposing the component of Weight parallel to the ramp's surface is much weaker than it was previously, and Net Force becomes non-zero. The direction of the Net Force is opposite that of Friction (\"down\" the ramp). As the inclination of the ramp increases more and more, less and less of the Weight of the object acts perpendendicular to the surface of the ramp, in turn reducing the Normal force opposing it. The simultaneous decrease in Weight perpendicular to the ramp and Normal force opposing it increases the Weight acting parallel to the surface of the ramp and decreases the Kinetic Friction opposing it, respectively. The margin between these two forces thus itself grows, but trigonometrically. As the net force perpendicular to the surface of the ramp stays zero, the increase in global Net Force is thus equivalent to the margin parallel to the surface of the ramp, so it increases trigonometrically as well. This process continues until the inclination of the ramp becomes 90° above the horizontal, and all 100 N of Weight acts parallel to the surface of the ramp, requiring 0 N of Normal force to oppose it perpendicularly, in turn meaning there is 0 N of Kinetic Friction to oppose it in parallel. Thus, Net Force arrives at its maximum, with all 100 N of Weight the only force acting on the object."
      ],
      "metadata": {
        "id": "f-qSQGfG6Goq"
      }
    },
    {
      "cell_type": "markdown",
      "source": [
        "#  <font color='Red'> **Experiment 3: Varying Static Friction Coefficient.** </font>"
      ],
      "metadata": {
        "id": "Za3Wu910wRuE"
      }
    },
    {
      "cell_type": "markdown",
      "source": [
        "###  <font color='Red'> Define the range of static-friction-coefficients you wish to test (using arange). </font>"
      ],
      "metadata": {
        "id": "FDwl9oGj3ezN"
      }
    },
    {
      "cell_type": "code",
      "source": [
        "μs = arange(0,10,0.1) ## range of static friction coefficients you wish to test"
      ],
      "metadata": {
        "id": "ZZ7yeJZT3is6"
      },
      "execution_count": 1008,
      "outputs": []
    },
    {
      "cell_type": "markdown",
      "source": [
        "###  <font color='Red'> Define a for-loop over these values. And get the force-magnitude for every value in the static-friction-coefficient array defined above. Fix the value of the angle, and set kinetic friction to 0. Free feel to use the Ramp method. </font>"
      ],
      "metadata": {
        "id": "W0oXCQNx3mVu"
      }
    },
    {
      "cell_type": "code",
      "source": [
        "f  = zeros(len(μs)) ## create an empty array to fill-in later of length μs\n",
        "for i in range(len(μs)): ## for-loop over all configurations, e.g. array μs\n",
        "    f[i] = norm( Ramp(45, μs[i], 0.0, f_in) + f_in ) ## compute the net-force given the i-th μs configuration\n",
        "\n",
        "print(f[9])\n",
        "print(f[10])"
      ],
      "metadata": {
        "id": "pE16JEdD_U1o",
        "colab": {
          "base_uri": "https://localhost:8080/"
        },
        "outputId": "c17f2676-f4d1-48d1-c1b0-81b6789f3772"
      },
      "execution_count": 1009,
      "outputs": [
        {
          "output_type": "stream",
          "name": "stdout",
          "text": [
            "70.71067811865474\n",
            "7.105427357601002e-15\n"
          ]
        }
      ]
    },
    {
      "cell_type": "markdown",
      "source": [
        "###  <font color='Red'> Plot your Results, make sure to leave a caption describing the physics of the graph. </font>"
      ],
      "metadata": {
        "id": "XDUlA93g3vxg"
      }
    },
    {
      "cell_type": "code",
      "source": [
        "plt.plot(μs, f, label=\"f\")\n",
        "plt.xlabel(\"Static Friction Coefficient\")\n",
        "plt.ylabel(\"Force (N)\")\n",
        "plt.legend(loc=\"upper right\")\n",
        "plt.title(\"Net Force on Object as Static Friction Coefficient Increases\")\n",
        "plt.show()"
      ],
      "metadata": {
        "colab": {
          "base_uri": "https://localhost:8080/",
          "height": 472
        },
        "id": "DU-hVoF43uoj",
        "outputId": "93fa67b0-c5bb-4614-d674-5147858736e9"
      },
      "execution_count": 1010,
      "outputs": [
        {
          "output_type": "display_data",
          "data": {
            "text/plain": [
              "<Figure size 640x480 with 1 Axes>"
            ],
            "image/png": "[encoded data removed]"
          },
          "metadata": {}
        }
      ]
    },
    {
      "cell_type": "markdown",
      "source": [
        "We start again with a Weight of 100 N acting on our object, but fix the angle of the ramp at 45° above the horizontal. We vary the Coefficient of Static Friction of the surface of the ramp from 0 to 10, however. When the Coefficient is 0, we can easily imagine (and see) that Net Force on the object is at its maximum of approximately 70.7 N (the component of Weight perpendicular to the surface of the ramp is still being equally opposed by the Normal force). However, physically this is a little misleading. A too-weak static friction (and with a Coefficient of 0, Static Friction is as weak as it can get) would ordinarily shift us into Kinetic Friction, but here we have arbitrarily defined the Coefficient of Kinetic Friction to be 0 invariantly. This enables the graph to precisely reflect when the Coefficient of Static Friction becomes large enough such that Static Friction can oppose the component of Weight parallel to the surface of the ramp. This occurs at a coefficient approzimately equal to 1, meaning that at an angle of 45° above the horizontal, so long as Static Friction is greater than or equal to the Normal force, our object will not slide."
      ],
      "metadata": {
        "id": "gwHDGEOh6D9Z"
      }
    },
    {
      "cell_type": "markdown",
      "source": [
        "#  <font color='Red'> **Experiment 4: Kinetic Friction and Dynamics.** </font>\n",
        "\n",
        "###  <font color='Red'> Lets consider kinematics as discussed before, using the familiar Velocity-Verlet algorithm. </font>"
      ],
      "metadata": {
        "id": "nwpCIOMQ1XBR"
      }
    },
    {
      "cell_type": "markdown",
      "source": [
        "###  <font color='Red'> Define the following 9 variables (similar to lab 2):\n",
        "*   Time Resolution (dt)\n",
        "*   Time-array\n",
        "*   Mass of your particle\n",
        "*   Initial Position (x0)\n",
        "*   Initial Velocity set to zeros (v0 = np.zeros(3))\n",
        "*   Initial Acceleration set to zeros (v0 = np.zeros(3))\n",
        "*   Angle (θ)\n",
        "*   Static Friction Coefficient (μs)\n",
        "*   Static Friction Coefficient (μk)\n",
        " </font>"
      ],
      "metadata": {
        "id": "fIlCZ3Bw4JNq"
      }
    },
    {
      "cell_type": "code",
      "source": [
        "θ  = 60   ## initial angle\n",
        "μs = 0.6 ## static-friction coefficient\n",
        "μk = 0.3  ## kinetic-friction coefficient\n",
        "\n",
        "dt = 0.1 ## s  : detector/sim time resolution\n",
        "mass = 5 ## kg : mass of particle\n",
        "g = 10   ## m/s/s\n",
        "x0 = array([0.,  0. , 0.]) ## m  : initial position\n",
        "v0 = array([ 0.,  0. , 0.]) ## m/s: initial velocity\n",
        "a0 = array([ 0., 0., 0.]) * mass * g ## m/s/s: initial acceleration\n",
        "\n",
        "time = arange(0, 10, dt) ## s : time array (array containing all moments in time)"
      ],
      "metadata": {
        "id": "tV1MJKZR45fj"
      },
      "execution_count": 1011,
      "outputs": []
    },
    {
      "cell_type": "markdown",
      "source": [
        "###  <font color='Red'> Define an acting force on this particle acting for all times, e.g. the force of gravity (it can be any force), i.e. f_t a 2D array, the same shape of the force defined in lab 2.  </font>"
      ],
      "metadata": {
        "id": "WpVramLp4ld0"
      }
    },
    {
      "cell_type": "code",
      "source": [
        "f_t_act = zeros((len(time), 3 )) ## empty force-trajectory array\n",
        "f_t_act[:,1] = -1. * mass * g  ## fill-in all 1-axis ('y'-axis) entries to -mg."
      ],
      "metadata": {
        "id": "OaRGAfd844Ti"
      },
      "execution_count": 1012,
      "outputs": []
    },
    {
      "cell_type": "markdown",
      "source": [
        "###  <font color='Red'> Define your Velocity Verlet, but with the new Force acting-reacting force term! To get the trajectory (for position, velocity, and acceleration)  </font>"
      ],
      "metadata": {
        "id": "H7AXQYtP5rKs"
      }
    },
    {
      "cell_type": "code",
      "source": [
        "x_t = zeros((len(time), 3)) ## initialize position-trajectory (position vectors for all times, i.e. len(T))\n",
        "v_t = zeros((len(time), 3)) ## initialize velocity-trajectory (velocity vectors for all times)\n",
        "a_t = zeros((len(time), 3)) ## initialize acceleration-trajectory (acceleration vectors for all times)\n",
        "\n",
        "x_t[0] = x0 ## initialize the 0th position-trajectory entry to the initial-position\n",
        "v_t[0] = v0 ## initialize the 0th velocity-trajectory entry to the initial-velocity\n",
        "a_t[0] = (Ramp(θ, μs, μk, f_t_act[0]) + f_t_act[0] )/mass\n",
        "\n",
        "for t in range(1,len(time)): ## iteratively run algorithm for all entries (for all time, excluding time 0)\n",
        "    x_t[t] = x_t[t-1] + v_t[t-1] * dt + a_t[t-1] * dt*dt/2 ## Velocity-Verlet Step 1 : find new position from old data\n",
        "    a_t[t] = (Ramp(θ, μs, μk, f_t_act[t]) + f_t_act[t] )/mass ## compute new acceleration from the net-force\n",
        "    v_t[t] = v_t[t-1] + (a_t[t-1] + a_t[t]) * dt/2 ## compute new velocity"
      ],
      "metadata": {
        "id": "WtJsLt0r5yHi"
      },
      "execution_count": 1013,
      "outputs": []
    },
    {
      "cell_type": "markdown",
      "source": [
        "###  <font color='Red'> Plot your Results, make sure to leave a caption describing the physics of the graph. </font>"
      ],
      "metadata": {
        "id": "6V34e3DM55WR"
      }
    },
    {
      "cell_type": "code",
      "source": [
        "fig, (ax1, ax2, ax3) = plt.subplots(1, 3)\n",
        "fig.text(1, 1, \"Experiment 1 - Magnitudes\", ha='center', fontsize='x-large')\n",
        "\n",
        "ax1.scatter(time, x_t[:,1], label=\"x(t)\")\n",
        "ax1.legend(loc=\"upper right\")\n",
        "ax1.set_title(\"Position\")\n",
        "ax1.set(xlabel='time (s)', ylabel='Position (m)')\n",
        "\n",
        "ax2.scatter(time, v_t[:,1], label=\"v(t)\")\n",
        "ax2.legend(loc=\"upper right\")\n",
        "ax2.set_title(\"Velocity\")\n",
        "ax2.set(xlabel='time (s)', ylabel='Velocity (m/s)')\n",
        "\n",
        "ax3.scatter(time, a_t[:,1], label=\"a(t)\")\n",
        "ax3.legend(loc=\"upper right\")\n",
        "ax3.set_title(\"Acceleration\")\n",
        "ax3.set(xlabel='time (s)', ylabel='Acceleration (m/s\\u00b2)')\n",
        "\n",
        "fig.show()"
      ],
      "metadata": {
        "colab": {
          "base_uri": "https://localhost:8080/",
          "height": 522
        },
        "id": "KsYjE9ko55dQ",
        "outputId": "b890d8d4-7116-44bb-d63e-26bce41215fe"
      },
      "execution_count": 1014,
      "outputs": [
        {
          "output_type": "display_data",
          "data": {
            "text/plain": [
              "<Figure size 640x480 with 3 Axes>"
            ],
            "image/png": "[encoded data removed]"
          },
          "metadata": {}
        }
      ]
    },
    {
      "cell_type": "markdown",
      "source": [
        "For this experiment, we have an object of mass 5 kg set at x = 0 m on an infinte plane inclined 60° above the horizontal. Acceleration due to gravity is -10 m/s/s aligned vertically. The Coefficient of Static Friction and of Kinetic Friction for the ramp is 0.6 and 0.3, respectively."
      ],
      "metadata": {
        "id": "rW4I7dNH6DJ8"
      }
    },
    {
      "cell_type": "markdown",
      "source": [
        "#  <font color='Red'> **Conclusion:** </font>\n",
        "\n",
        "###  <font color='Red'> Write your Conclusion here, you may type in word-processor, only to copy-n-paste it here. This .ipynb file is your lab report. </font>\n",
        "\n",
        "###  <font color='Red'> Demonstrate you understand this lab, this is the most imporant part of the lab report worth half of the total points. </font>\n"
      ],
      "metadata": {
        "id": "wT8I5Mzbuh57"
      }
    },
    {
      "cell_type": "markdown",
      "source": [],
      "metadata": {
        "id": "Eq10Xab463PY"
      }
    },
    {
      "cell_type": "markdown",
      "source": [
        "###  <font color='Red'> If your surface is completely parallel to the gravity-vector $\\mathbf{g}$ (i.e. angle is 90 degrees from horizontal surface), can static friction support the object on this surface? </font>"
      ],
      "metadata": {
        "id": "O7GUBWGNcSry"
      }
    },
    {
      "cell_type": "markdown",
      "source": [],
      "metadata": {
        "id": "YlfSVXNm8jLT"
      }
    },
    {
      "cell_type": "markdown",
      "source": [
        "###  <font color='Red'> Is there an angle, such that no motion occurs with a static friction coefficient of 0.0? </font>"
      ],
      "metadata": {
        "id": "6zB8fqzX8kly"
      }
    },
    {
      "cell_type": "markdown",
      "source": [],
      "metadata": {
        "id": "ZINhIKzE7DEf"
      }
    }
  ]
}